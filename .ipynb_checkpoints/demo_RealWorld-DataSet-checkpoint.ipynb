{
 "cells": [
  {
   "cell_type": "code",
   "execution_count": null,
   "metadata": {},
   "outputs": [],
   "source": [
    "# This code reproduce Real-World data results provided in Paper\n",
    "\n",
    "# The Code require one data file from all the states, with three possible treatments. \n",
    "# One feature list file \n",
    "\n",
    "# After Preprocessing (IH)=Treatment = 0, OH = Treatment = 1, SS=Treatment = 2\n",
    "# Label 0 = Safe, 1 = Maltreatment"
   ]
  },
  {
   "cell_type": "code",
   "execution_count": 28,
   "metadata": {},
   "outputs": [],
   "source": [
    "__author__ = 'Sohaib Kiani'\n",
    "\n",
    "import pandas as pd\n",
    "import arff\n",
    "from scipy.io.arff import loadarff\n",
    "import numpy as np\n",
    "\n",
    "import matplotlib\n",
    "import matplotlib.pyplot as plt\n",
    "import seaborn as sns"
   ]
  },
  {
   "cell_type": "code",
   "execution_count": null,
   "metadata": {},
   "outputs": [],
   "source": [
    "# ********************** Data Preprocessing ***************************"
   ]
  },
  {
   "cell_type": "code",
   "execution_count": 29,
   "metadata": {},
   "outputs": [
    {
     "name": "stdout",
     "output_type": "stream",
     "text": [
      "Available States [ 1  2  3  4  7  8  9 10 12 13 11]\n",
      "(345583, 96)\n"
     ]
    }
   ],
   "source": [
    "path ='D:/MachineLearning/ROM_Demo_Extracts/'\n",
    "df=pd.read_csv(path + \"Short_Stayers_20221215/Short_Stayers_Location_all.csv\",header=None,low_memory=False)\n",
    "f = open(path + \"Short_Stayers_20210729/Feature_List.txt\", 'r+')\n",
    "lines =f.readlines()\n",
    "features = []\n",
    "for i in lines:\n",
    "    features.append(i.strip())\n",
    "f.close()\n",
    "df.columns = features\n",
    "df.Treatment = (df.Treatment + 1) % 3\n",
    "\n",
    "print (\"Available States\",df.State.unique()) ## Need to exclude outlier states here\n",
    "print (df.shape)"
   ]
  },
  {
   "cell_type": "code",
   "execution_count": 36,
   "metadata": {},
   "outputs": [
    {
     "name": "stdout",
     "output_type": "stream",
     "text": [
      "345578    E\n",
      "345579    G\n",
      "345580    C\n",
      "345581    E\n",
      "345582    G\n",
      "Name: Race, dtype: object\n",
      "['H' 'E' 'C' 'G' 'A' 'D' 'B' 'F']\n",
      "Rows with multiple races (0, 98)\n",
      "        Race_A  Race_B  Race_C  Race_D  Race_E  Race_F  Race_G  Race_H\n",
      "345578       0       0       0       0       1       0       0       0\n",
      "345579       0       0       0       0       0       0       1       0\n",
      "345580       0       0       1       0       0       0       0       0\n",
      "345581       0       0       0       0       1       0       0       0\n",
      "345582       0       0       0       0       0       0       1       0\n"
     ]
    }
   ],
   "source": [
    "# Provided one-hot-encoding of Race have issues. This code is to remove previous and regenerate one-hot-encoding of Race\n",
    "df.drop(['Race_A','Race_B','Race_C','Race_D','Race_E','Race_F','Race_G','Race_H' ],axis=1,inplace = True,errors= 'ignore')\n",
    "race_groups = ['Race_A','Race_B','Race_C','Race_D','Race_E','Race_F','Race_G','Race_H']\n",
    "# drop rows with NaN values in \"Race\" column\n",
    "df = df.dropna(subset=['Race'])\n",
    "# convert \"Race\" column to uppercase\n",
    "df['Race'] = df['Race'].str.upper()\n",
    "print (df.loc[:,'Race'].tail())\n",
    "print (df['Race'].unique())\n",
    "\n",
    "# perform one-hot encoding on \"Race\" column\n",
    "race_dummies = pd.get_dummies(df['Race'], prefix='Race')\n",
    "# concatenate the original DataFrame with the one-hot encoded columns\n",
    "df = pd.concat([df, race_dummies], axis=1)\n",
    "# find the rows where multiple columns have value 1\n",
    "multi_ones = df[df.loc[:,race_groups].sum(axis=1) > 1]\n",
    "# print the resulting DataFrame\n",
    "print('Rows with multiple races',multi_ones.shape)\n",
    "print (df.loc[:,race_groups].tail())"
   ]
  },
  {
   "cell_type": "code",
   "execution_count": null,
   "metadata": {},
   "outputs": [],
   "source": [
    "# ********************** Feature Engineering ***************************"
   ]
  },
  {
   "cell_type": "code",
   "execution_count": 37,
   "metadata": {},
   "outputs": [
    {
     "name": "stdout",
     "output_type": "stream",
     "text": [
      "[ 1  2  3  4  7  8  9 10 12 13 11]\n",
      "7\n",
      "7 21\n",
      "Total Features 66\n",
      "Observed Features 21\n",
      "Hidden Features 45\n"
     ]
    }
   ],
   "source": [
    "Irrelevant_feature = ['Episode_YYYYMM','Episode_Type','In_Home_End','p_fc_6mos','Episode_End_Reason','Short_FC_CT','No_Stayer','Episode_Time_Days','Less_60','Less_90','Placement_Setting_Type','Race','Hispanic','Location_Code01','Location_Code02','Location_Code03','Location_Code04','Location_Code05','Location_Code06','Location_Code07','Location_Code08','Location_Code09','Location_Code10','Location_Code11','Location_Code12','Location_Code13']\n",
    "hidden_features = ['ct_Placements','Placement_Setting_Type1','Placement_Setting_Type2','Placement_Setting_Type3','Placement_Setting_Type4','Placement_Setting_Type5','Placement_Setting_Type6','Placement_Setting_Type7','Placement_Setting_Type8','Placement_Setting_Type9','Removal_Physical_Abuse','Removal_Sexual_Abuse','Removal_MalTreatment','Removal_Parent_Drug_Abuse','Removal_Parent_Alcohol_Abuse','Removal_Inadequate_Housing','Removal_Parent_Incapacity','Removal_Parent_Incarceration','Removal_Child_Behavior','Removal_Child_Disability',\n",
    "        'Removal_Child_Drug_Abuse',\n",
    "        'Removal_Child_Alcohol_Abuse',\n",
    "        'Removal_Parent_Death',\n",
    "        'Removal_Abandon',\n",
    "        'Removal_Relinquishment',\n",
    "        'Removal_Abuse',\n",
    "        'Removal_Neglect',\n",
    "        'Removal_Parent',\n",
    "        'Removal_Child',\n",
    "        'Removal_Drug_Alcohol','Disability_Diagnosis',\n",
    "        'Disability_Emotional',\n",
    "        'Disability_MR',\n",
    "        'Disability_Other',\n",
    "        'Disability_Physical',\n",
    "        'Disability_Sensory','Race_A','Race_B','Race_C','Race_D','Race_E','Race_F','Race_G','Race_H','Gender']\n",
    "df_PP = df.copy()\n",
    "\n",
    "\n",
    "# ************* Filtering*****************\n",
    "###Exclude irrelevant states\n",
    "print (df_PP['State'].unique())\n",
    "exclude_state = [7,11,12,13]\n",
    "df_PP = df_PP[~df_PP['State'].isin(exclude_state)]\n",
    "print (df_PP['State'].nunique())\n",
    "\n",
    "### Filtering out few exceptional cases where child was move to foster care too soon to be recognised as in-home\n",
    "df_PP = df_PP[(df_PP.Treatment != 2) | (df_PP.In_Home_End != 2) | (df_PP.Episode_Time_Days > 365)]\n",
    "\n",
    "### extract Label\n",
    "df_PP['Label'] = df_PP['Safe12_Outcome_Code']\n",
    "df_PP.drop(['Safe12_Outcome_lbl','Safe6_Outcome_lbl','Safe6_Outcome_Code','Safe12_Outcome_Code'],axis=1,inplace=True)\n",
    "df_PP = df_PP[df_PP.Episode_Type != 3]         # Get Rid of Non-fed types\n",
    "\n",
    "##Remove Irrelevant features \n",
    "df_PP.drop (Irrelevant_feature, axis = 1, inplace = True)\n",
    "\n",
    "#************Fix Columns DataTypes********* \n",
    "### Tackle Nan \n",
    "df_PP.fillna(0,inplace = True)\n",
    "### for bool values True, false\n",
    "df_PP = df_PP * 1\n",
    "\n",
    "###columns with string(yes,no) convert them into discrete(0,1)\n",
    "filteredColumns = df_PP.dtypes[df_PP.dtypes == np.object]\n",
    "# list of columns whose data type is object i.e. string\n",
    "listOfColumnNames = list(filteredColumns.index)\n",
    "for col in listOfColumnNames:\n",
    "    replace_map={col:{'Yes':1, 'No':0}}\n",
    "    df_PP.replace(replace_map,inplace=True)\n",
    "    df_PP[col] = pd.to_numeric(df_PP[col], errors='coerce')\n",
    "\n",
    "\n",
    "#************ Reorder Columns ******************\n",
    "#shift hidden features make exclusion/inclusion easier while training, \n",
    "temp_hidden = df_PP[hidden_features]\n",
    "df_PP.drop (hidden_features, axis = 1, inplace = True)\n",
    "df_PP = pd.concat([df_PP,temp_hidden],axis=1)\n",
    "\n",
    "#Shift Label and Treatment to the end as well\n",
    "Label = df_PP.pop('Label')\n",
    "Treatment = df_PP.pop('Treatment')\n",
    "df_PP['Treatment'] = Treatment\n",
    "df_PP['Label'] = (Label + 1)%2 \n",
    "policies = df_PP['State'].nunique()\n",
    "\n",
    "#df_PP.drop('State',axis=1,inplace=True)\n",
    "v_dim = df_PP.shape[1] - len(hidden_features) - 3 #Exclude Treatment, Label and State\n",
    "print (policies,v_dim)\n",
    "print (\"Total Features\",df_PP.shape[1]-3)\n",
    "print (\"Observed Features\",v_dim)\n",
    "print (\"Hidden Features\",len(hidden_features))\n",
    "#print (df_PP.columns)"
   ]
  },
  {
   "cell_type": "code",
   "execution_count": null,
   "metadata": {},
   "outputs": [],
   "source": [
    "# ********************** Data Visualization ***************************"
   ]
  },
  {
   "cell_type": "code",
   "execution_count": 38,
   "metadata": {},
   "outputs": [
    {
     "name": "stdout",
     "output_type": "stream",
     "text": [
      "Location_Code01\n",
      "Location_Code02\n",
      "Location_Code03\n",
      "Location_Code04\n",
      "Location_Code08\n",
      "Location_Code09\n",
      "Location_Code10\n",
      "  Site In Home Short Stayer Out of Home\n",
      "0    A    0.64       0.0564      0.3036\n",
      "1    B  0.7218        0.025      0.2532\n",
      "2    C   0.715       0.0078      0.2772\n",
      "3    D   0.624       0.0138      0.3622\n",
      "4    E  0.2402       0.3054      0.4544\n"
     ]
    }
   ],
   "source": [
    "\n",
    "###Excluding Location_code_11 due to very few 'In home' Samples \n",
    "###Excluding Location_Code_7,12,13 are exception due to policies and not contributing anything in the experiment good/bad.\n",
    "treat_map = {0:'In Home',1:'Out of Home',2:'Short Stayer'}\n",
    "dfLocation_stat = pd.DataFrame(columns = ['Site','In Home','Short Stayer','Out of Home'])\n",
    "dfLocation_outcome = pd.DataFrame(columns = ['Site','Fail_Rate'])\n",
    "dfLocation_SS = pd.DataFrame(columns = ['Site','Accept_Rate'])\n",
    "site_name = ['A','B','C','D','E','F','G','H','I']\n",
    "site_index = 0\n",
    "for i in range (1,14):\n",
    "    if i == 5 or i == 6 or i == 7 or i==11 or i==12 or i == 13:\n",
    "        continue\n",
    "    temp = 'Location_Code'\n",
    "    code = str(i)\n",
    "    location = temp + '0'+ code if len(code) == 1 else temp + code\n",
    "    n = 5000\n",
    "    print (location)\n",
    "    dfSubset = df[df[location] == 1].sample(n)\n",
    "    stat = {'Site':site_name[site_index]}\n",
    "    for k in range(3):\n",
    "        stat[treat_map[k]] = dfSubset[ dfSubset.Treatment == k].shape[0]\n",
    "    dfLocation_stat = dfLocation_stat.append(stat,ignore_index = True)\n",
    "    \n",
    "    dict_row = {'Site':site_name[site_index]}\n",
    "    dict_row['Fail_Rate'] = ((dfSubset.Treatment == 0) & (dfSubset.Safe12_Outcome_Code == 0)).sum()/n\n",
    "    #dfLocation_outcome = dfLocation_outcome.append(dict_row,ignore_index = True)\n",
    "    \n",
    "    #dict_row = {'Site':location}\n",
    "    dict_row['Accept_Rate'] = (dfSubset.Treatment == 0).sum()/n\n",
    "    dfLocation_SS = dfLocation_SS.append(dict_row,ignore_index = True)\n",
    "    site_index += 1                        \n",
    "\n",
    "dfLocation_stat['In Home'] = dfLocation_stat['In Home']/5000\n",
    "dfLocation_stat['Short Stayer'] = dfLocation_stat['Short Stayer']/5000\n",
    "dfLocation_stat['Out of Home'] = dfLocation_stat['Out of Home']/5000\n",
    "print (dfLocation_stat.head())"
   ]
  },
  {
   "cell_type": "code",
   "execution_count": 39,
   "metadata": {},
   "outputs": [
    {
     "data": {
      "image/png": "[encoded data removed]",
      "text/plain": [
       "<Figure size 720x360 with 2 Axes>"
      ]
     },
     "metadata": {
      "needs_background": "light"
     },
     "output_type": "display_data"
    }
   ],
   "source": [
    "import seaborn as sns\n",
    "import seaborn as sns\n",
    "import matplotlib.pyplot as plt\n",
    "\n",
    "# create figure and axes\n",
    "fig, ax1 = plt.subplots(figsize=(10, 5))\n",
    "\n",
    "# plot the first dataframe on the first y-axis\n",
    "bars = dfLocation_stat.set_index('Site').plot(kind='bar', ax=ax1, alpha=0.7, edgecolor='black', width=0.35,\n",
    "                                       linewidth=1.5, color=['green', 'orange', 'indigo'])\n",
    "\n",
    "# set hatch styles for each bar individually\n",
    "patterns = ['/', '.', '-']\n",
    "\n",
    "for i in range(3):\n",
    "    for loc in range(7):\n",
    "         bars.patches[i*7 + loc].set_hatch(patterns[i])\n",
    "\n",
    "# create a second y-axis with a different scale\n",
    "ax2 = ax1.twinx()\n",
    "\n",
    "# plot the Accept_Rate and Fail_Rate columns on the second y-axis as line plots\n",
    "sns.lineplot(x='Site', y='Accept_Rate', data=dfLocation_SS, ax=ax2, marker='s', linewidth=2,markersize = 8, color='blue', linestyle='solid')\n",
    "sns.lineplot(x='Site', y='Fail_Rate', data=dfLocation_SS, ax=ax2, marker='o', linewidth=2, markersize = 8, color='red', linestyle='dashed')\n",
    "\n",
    "# set the limits for the y-axes\n",
    "ax1.set_ylim([0, .8])\n",
    "ax2.set_ylim([0, .8])\n",
    "\n",
    "# add labels to the bars and lines\n",
    "ax1.set_xticklabels(dfLocation_stat['Site'], rotation=0)\n",
    "ax1.set_xlabel('Location',fontsize = 14)\n",
    "ax1.set_ylabel('Treatment distribution', fontsize = 14)\n",
    "ax2.set_ylabel('Acceptance / Failure Rate', fontsize = 14)\n",
    "\n",
    "# add a legend\n",
    "ax1.legend(labels=['In-Home', 'Dual-Treatment', 'Out-of-Home'], loc='upper center',fontsize=13.2, frameon=True,edgecolor='black')\n",
    "ax1.tick_params(axis='x', labelsize=13)\n",
    "ax2.legend(loc='upper right',labels = ['Acceptance Rate','Failure Rate'],fontsize = 13.2, frameon=True,edgecolor='black')\n",
    "\n",
    "plt.tight_layout()\n",
    "plt.savefig(\"dataset.png\")"
   ]
  },
  {
   "cell_type": "code",
   "execution_count": null,
   "metadata": {},
   "outputs": [],
   "source": [
    "# ********************** Training & Evaluation ***************************"
   ]
  },
  {
   "cell_type": "code",
   "execution_count": 50,
   "metadata": {},
   "outputs": [
    {
     "name": "stdout",
     "output_type": "stream",
     "text": [
      "(36000, 69)\n",
      "Number of States in Training 6\n",
      "Intercept 0.2544622352620328\n",
      "Calibration Performed\n",
      "Short Stayer Train Shape (1949, 68)\n",
      "DM Train Shape (1949, 66)\n",
      "AUC Score for Direct Method over SS data: 0.14298356608441548\n",
      "AUC Score for Propensity_Score over OH Samples: 0.09015079765600185\n",
      "\n",
      " Train DR using all treatment Samples\n"
     ]
    },
    {
     "name": "stderr",
     "output_type": "stream",
     "text": [
      "C:\\Users\\s751k930\\Anaconda3\\lib\\site-packages\\pandas\\core\\indexing.py:966: SettingWithCopyWarning: \n",
      "A value is trying to be set on a copy of a slice from a DataFrame.\n",
      "Try using .loc[row_indexer,col_indexer] = value instead\n",
      "\n",
      "See the caveats in the documentation: https://pandas.pydata.org/pandas-docs/stable/user_guide/indexing.html#returning-a-view-versus-a-copy\n",
      "  self.obj[item] = s\n"
     ]
    },
    {
     "name": "stdout",
     "output_type": "stream",
     "text": [
      "\n",
      " Train DM using all treatment train Samples\n",
      "          Location        SP        RA        DR\n",
      "0  Location_Code01  0.202572  0.172135  0.172189\n"
     ]
    }
   ],
   "source": [
    "#Testing Methodology 1\n",
    "\n",
    "from ATE_Estimator import ATE_Learner\n",
    "from Double_Robust import DRLearner\n",
    "from utils import *\n",
    "from sklearn.model_selection import cross_val_predict, KFold, train_test_split\n",
    "\n",
    "df_Result_M1 = pd.DataFrame(columns= ['Location','SP','RA','DR'])\n",
    "train = df_PP[(df_PP.State != 1)].copy()   \n",
    "train = train.groupby('State').head(5000)\n",
    "print (train.shape)\n",
    "#train['Label'] = train['Label'].replace({0:-1})\n",
    "print (\"Number of States in Training\",train.State.nunique())\n",
    "train.pop('State')\n",
    "\n",
    "#Train\n",
    "train_DR, test_DR = train_test_split(train, test_size=0.20, random_state=3, shuffle=True)\n",
    "ATE_est = ATE_Learner(train_DR,policies,v_dim)\n",
    "DR = DRLearner(train_DR,test_DR,'C',v_dim,ATE_est)\n",
    "\n",
    "#Test\n",
    "for t_State in [1]:\n",
    "    test = df_PP[(df_PP.State == t_State)]\n",
    "    #test['Label'] = test['Label'].replace({0:-1})\n",
    "    test.pop('State')\n",
    "\n",
    "    test_0 = test[test.Treatment == 0]\n",
    "    y_test = test_0.pop('Label')       #### testing it against desired label\n",
    "    T_test = test_0.pop('Treatment')\n",
    "\n",
    "    X_test = test_0.iloc[:,:v_dim]\n",
    "    MSE_score_DR = mse(DR.DR_algo,X_test,y_test)  \n",
    "    MSE_score_RA = mse(DR.RA_algo,X_test,y_test)\n",
    "    MSE_score_SP = mse(DR.SP_algo,X_test,y_test)    \n",
    "    temp = 'Location_Code'\n",
    "    code = str(t_State)\n",
    "    location = temp + '0'+ code if len(code) == 1 else temp + code\n",
    "    \n",
    "    dict_Row = {'SP':MSE_score_SP,'DR': MSE_score_DR,'Location':location, 'RA':MSE_score_RA,}\n",
    "    df_Result_M1 = df_Result_M1.append(dict_Row,ignore_index=True)\n",
    "\n",
    "print (df_Result_M1)"
   ]
  },
  {
   "cell_type": "code",
   "execution_count": null,
   "metadata": {},
   "outputs": [],
   "source": []
  }
 ],
 "metadata": {
  "kernelspec": {
   "display_name": "Python 3",
   "language": "python",
   "name": "python3"
  },
  "language_info": {
   "codemirror_mode": {
    "name": "ipython",
    "version": 3
   },
   "file_extension": ".py",
   "mimetype": "text/x-python",
   "name": "python",
   "nbconvert_exporter": "python",
   "pygments_lexer": "ipython3",
   "version": "3.8.3"
  }
 },
 "nbformat": 4,
 "nbformat_minor": 4
}
